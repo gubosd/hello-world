{
 "cells": [
  {
   "cell_type": "markdown",
   "metadata": {},
   "source": [
    "## Chapter 12\n",
    "# Numpy 고급\n",
    "---"
   ]
  },
  {
   "cell_type": "code",
   "execution_count": 1,
   "metadata": {
    "collapsed": false
   },
   "outputs": [
    {
     "name": "stdout",
     "output_type": "stream",
     "text": [
      "Populating the interactive namespace from numpy and matplotlib\n"
     ]
    }
   ],
   "source": [
    "%pylab inline\n",
    "\n",
    "import numpy as np\n",
    "import pandas as pd\n",
    "import matplotlib.pyplot as plt"
   ]
  },
  {
   "cell_type": "markdown",
   "metadata": {},
   "source": [
    "### csv 파일 읽기\n",
    "- 파이썬 기본 라이브러리 사용"
   ]
  },
  {
   "cell_type": "code",
   "execution_count": 2,
   "metadata": {
    "collapsed": false
   },
   "outputs": [
    {
     "name": "stdout",
     "output_type": "stream",
     "text": [
      "### 0 ==> [\"sepal.length\",\"sepal.width\",\"petal.length\",\"petal.width\",\"variety\"\n",
      "]\n",
      "### 1 ==> [5.1,3.5,1.4,.2,\"Setosa\"\n",
      "]\n",
      "### 2 ==> [4.9,3,1.4,.2,\"Setosa\"\n",
      "]\n",
      "### 3 ==> [4.7,3.2,1.3,.2,\"Setosa\"\n",
      "]\n",
      "### 4 ==> [4.6,3.1,1.5,.2,\"Setosa\"\n",
      "]\n"
     ]
    }
   ],
   "source": [
    "f = open('iris.csv')\n",
    "for i in range(5):\n",
    "    s = f.readline()\n",
    "    print('### %d ==> [%s]' % (i,s)) # 개행문자 포함됨\n",
    "f.close()"
   ]
  },
  {
   "cell_type": "code",
   "execution_count": 3,
   "metadata": {
    "collapsed": false
   },
   "outputs": [
    {
     "name": "stdout",
     "output_type": "stream",
     "text": [
      "['sepal.length', 'sepal.width', 'petal.length', 'petal.width', 'variety']\n",
      "[[5.1, 3.5, 1.4, 0.2, 0], [4.9, 3.0, 1.4, 0.2, 0], [4.7, 3.2, 1.3, 0.2, 0], [4.6, 3.1, 1.5, 0.2, 0], [5.0, 3.6, 1.4, 0.2, 0]]\n",
      "(150, 4) (150,)\n"
     ]
    },
    {
     "data": {
      "text/plain": [
       "array([[5.1, 3.5, 1.4, 0.2],\n",
       "       [4.9, 3. , 1.4, 0.2],\n",
       "       [4.7, 3.2, 1.3, 0.2],\n",
       "       [4.6, 3.1, 1.5, 0.2],\n",
       "       [5. , 3.6, 1.4, 0.2]])"
      ]
     },
     "metadata": {},
     "output_type": "display_data"
    },
    {
     "data": {
      "text/plain": [
       "array([0., 0., 0., 0., 0.])"
      ]
     },
     "metadata": {},
     "output_type": "display_data"
    }
   ],
   "source": [
    "f = open('iris.csv')\n",
    "\n",
    "line = f.readline()\n",
    "header = line.strip().split(',')\n",
    "header = [s.strip('\"') for s in header]\n",
    "\n",
    "data = []\n",
    "mapper = {'\"Setosa\"': 0, '\"Versicolor\"': 1, '\"Virginica\"': 2}\n",
    "\n",
    "for line in f:\n",
    "    l = line.strip().split(',') # 모든 요소가 문자열로 저장됨\n",
    "    for i in range(4): l[i] = float(l[i]) # 숫자를 실수형으로 변환\n",
    "    l[-1] = mapper[l[-1]] # 레이블을 숫자로 변환 (따옴표 주의)\n",
    "    data.append(l)\n",
    "\n",
    "f.close()\n",
    "\n",
    "print(header)\n",
    "print(data[:5])\n",
    "\n",
    "raw_data = np.array(data)\n",
    "X = raw_data[:,:-1]\n",
    "y = raw_data[:,-1]\n",
    "\n",
    "print(X.shape, y.shape)\n",
    "display(X[:5], y[:5])"
   ]
  },
  {
   "cell_type": "markdown",
   "metadata": {},
   "source": [
    "- numpy 의 loadtxt() 함수 사용"
   ]
  },
  {
   "cell_type": "code",
   "execution_count": 4,
   "metadata": {
    "collapsed": true
   },
   "outputs": [
    {
     "name": "stdout",
     "output_type": "stream",
     "text": [
      "Help on function loadtxt in module numpy.lib.npyio:\n",
      "\n",
      "loadtxt(fname, dtype=<class 'float'>, comments='#', delimiter=None, converters=None, skiprows=0, usecols=None, unpack=False, ndmin=0, encoding='bytes')\n",
      "    Load data from a text file.\n",
      "    \n",
      "    Each row in the text file must have the same number of values.\n",
      "    \n",
      "    Parameters\n",
      "    ----------\n",
      "    fname : file, str, or pathlib.Path\n",
      "        File, filename, or generator to read.  If the filename extension is\n",
      "        ``.gz`` or ``.bz2``, the file is first decompressed. Note that\n",
      "        generators should return byte strings for Python 3k.\n",
      "    dtype : data-type, optional\n",
      "        Data-type of the resulting array; default: float.  If this is a\n",
      "        structured data-type, the resulting array will be 1-dimensional, and\n",
      "        each row will be interpreted as an element of the array.  In this\n",
      "        case, the number of columns used must match the number of fields in\n",
      "        the data-type.\n",
      "    comments : str or sequence of str, optional\n",
      "        The characters or list of characters used to indicate the start of a\n",
      "        comment. None implies no comments. For backwards compatibility, byte\n",
      "        strings will be decoded as 'latin1'. The default is '#'.\n",
      "    delimiter : str, optional\n",
      "        The string used to separate values. For backwards compatibility, byte\n",
      "        strings will be decoded as 'latin1'. The default is whitespace.\n",
      "    converters : dict, optional\n",
      "        A dictionary mapping column number to a function that will parse the\n",
      "        column string into the desired value.  E.g., if column 0 is a date\n",
      "        string: ``converters = {0: datestr2num}``.  Converters can also be\n",
      "        used to provide a default value for missing data (but see also\n",
      "        `genfromtxt`): ``converters = {3: lambda s: float(s.strip() or 0)}``.\n",
      "        Default: None.\n",
      "    skiprows : int, optional\n",
      "        Skip the first `skiprows` lines; default: 0.\n",
      "    usecols : int or sequence, optional\n",
      "        Which columns to read, with 0 being the first. For example,\n",
      "        ``usecols = (1,4,5)`` will extract the 2nd, 5th and 6th columns.\n",
      "        The default, None, results in all columns being read.\n",
      "    \n",
      "        .. versionchanged:: 1.11.0\n",
      "            When a single column has to be read it is possible to use\n",
      "            an integer instead of a tuple. E.g ``usecols = 3`` reads the\n",
      "            fourth column the same way as ``usecols = (3,)`` would.\n",
      "    unpack : bool, optional\n",
      "        If True, the returned array is transposed, so that arguments may be\n",
      "        unpacked using ``x, y, z = loadtxt(...)``.  When used with a structured\n",
      "        data-type, arrays are returned for each field.  Default is False.\n",
      "    ndmin : int, optional\n",
      "        The returned array will have at least `ndmin` dimensions.\n",
      "        Otherwise mono-dimensional axes will be squeezed.\n",
      "        Legal values: 0 (default), 1 or 2.\n",
      "    \n",
      "        .. versionadded:: 1.6.0\n",
      "    encoding : str, optional\n",
      "        Encoding used to decode the inputfile. Does not apply to input streams.\n",
      "        The special value 'bytes' enables backward compatibility workarounds\n",
      "        that ensures you receive byte arrays as results if possible and passes\n",
      "        'latin1' encoded strings to converters. Override this value to receive\n",
      "        unicode arrays and pass strings as input to converters.  If set to None\n",
      "        the system default is used. The default value is 'bytes'.\n",
      "    \n",
      "        .. versionadded:: 1.14.0\n",
      "    \n",
      "    Returns\n",
      "    -------\n",
      "    out : ndarray\n",
      "        Data read from the text file.\n",
      "    \n",
      "    See Also\n",
      "    --------\n",
      "    load, fromstring, fromregex\n",
      "    genfromtxt : Load data with missing values handled as specified.\n",
      "    scipy.io.loadmat : reads MATLAB data files\n",
      "    \n",
      "    Notes\n",
      "    -----\n",
      "    This function aims to be a fast reader for simply formatted files.  The\n",
      "    `genfromtxt` function provides more sophisticated handling of, e.g.,\n",
      "    lines with missing values.\n",
      "    \n",
      "    .. versionadded:: 1.10.0\n",
      "    \n",
      "    The strings produced by the Python float.hex method can be used as\n",
      "    input for floats.\n",
      "    \n",
      "    Examples\n",
      "    --------\n",
      "    >>> from io import StringIO   # StringIO behaves like a file object\n",
      "    >>> c = StringIO(u\"0 1\\n2 3\")\n",
      "    >>> np.loadtxt(c)\n",
      "    array([[ 0.,  1.],\n",
      "           [ 2.,  3.]])\n",
      "    \n",
      "    >>> d = StringIO(u\"M 21 72\\nF 35 58\")\n",
      "    >>> np.loadtxt(d, dtype={'names': ('gender', 'age', 'weight'),\n",
      "    ...                      'formats': ('S1', 'i4', 'f4')})\n",
      "    array([('M', 21, 72.0), ('F', 35, 58.0)],\n",
      "          dtype=[('gender', '|S1'), ('age', '<i4'), ('weight', '<f4')])\n",
      "    \n",
      "    >>> c = StringIO(u\"1,0,2\\n3,0,4\")\n",
      "    >>> x, y = np.loadtxt(c, delimiter=',', usecols=(0, 2), unpack=True)\n",
      "    >>> x\n",
      "    array([ 1.,  3.])\n",
      "    >>> y\n",
      "    array([ 2.,  4.])\n",
      "\n"
     ]
    }
   ],
   "source": [
    "help(numpy.loadtxt)"
   ]
  },
  {
   "cell_type": "code",
   "execution_count": 5,
   "metadata": {
    "collapsed": false
   },
   "outputs": [
    {
     "data": {
      "text/plain": [
       "(150, 4)"
      ]
     },
     "metadata": {},
     "output_type": "display_data"
    },
    {
     "data": {
      "text/plain": [
       "array([[5.1, 3.5, 1.4, 0.2],\n",
       "       [4.9, 3. , 1.4, 0.2],\n",
       "       [4.7, 3.2, 1.3, 0.2],\n",
       "       [4.6, 3.1, 1.5, 0.2],\n",
       "       [5. , 3.6, 1.4, 0.2]])"
      ]
     },
     "metadata": {},
     "output_type": "display_data"
    }
   ],
   "source": [
    "# data = np.loadtxt('iris.csv', delimiter=',') # error!\n",
    "# data = np.loadtxt('iris.csv', delimiter=',', skiprows=1) # error!\n",
    "data = np.loadtxt('iris.csv', delimiter=',', skiprows=1, usecols=[0,1,2,3])\n",
    "\n",
    "display(data.shape, data[:5])"
   ]
  },
  {
   "cell_type": "code",
   "execution_count": 6,
   "metadata": {
    "collapsed": false
   },
   "outputs": [
    {
     "data": {
      "text/plain": [
       "(150, 5)"
      ]
     },
     "metadata": {},
     "output_type": "display_data"
    },
    {
     "data": {
      "text/plain": [
       "array([[5.1, 3.5, 1.4, 0.2, 0. ],\n",
       "       [4.9, 3. , 1.4, 0.2, 0. ],\n",
       "       [4.7, 3.2, 1.3, 0.2, 0. ],\n",
       "       [4.6, 3.1, 1.5, 0.2, 0. ],\n",
       "       [5. , 3.6, 1.4, 0.2, 0. ]])"
      ]
     },
     "metadata": {},
     "output_type": "display_data"
    }
   ],
   "source": [
    "mapper = {'\"Setosa\"': 0, '\"Versicolor\"': 1, '\"Virginica\"': 2}\n",
    "\n",
    "# data = np.loadtxt('iris.csv', delimiter=',', skiprows=1, encoding='utf-8',\n",
    "#                  converters={4: lambda s: mapper[s]})\n",
    "\n",
    "data = np.loadtxt('iris.csv', delimiter=',', skiprows=1,\n",
    "                 converters={4: lambda s: mapper[s.decode()]})\n",
    "\n",
    "display(data.shape, data[:5])"
   ]
  },
  {
   "cell_type": "code",
   "execution_count": 7,
   "metadata": {
    "collapsed": false
   },
   "outputs": [
    {
     "data": {
      "text/plain": [
       "(3, 3)"
      ]
     },
     "metadata": {},
     "output_type": "display_data"
    },
    {
     "data": {
      "text/plain": [
       "array([[18.,  1.,  8.],\n",
       "       [35.,  2.,  9.],\n",
       "       [18.,  0.,  7.]])"
      ]
     },
     "metadata": {},
     "output_type": "display_data"
    }
   ],
   "source": [
    "mapper = {'우주':1, '서울':2}\n",
    "\n",
    "data = np.loadtxt('둘리와친구들.txt', delimiter=',', skiprows=1, usecols=[1,2,3], encoding='ms949',\n",
    "                  converters={2: lambda s: mapper[s] if s in mapper else 0})\n",
    "\n",
    "# data = np.loadtxt('둘리와친구들_utf-8.txt', delimiter=',', skiprows=1, usecols=[1,2,3], encoding='utf-8',\n",
    "#                   converters={2: lambda s: mapper[s] if s in mapper else 0})\n",
    "\n",
    "display(data.shape, data[:5])"
   ]
  },
  {
   "cell_type": "markdown",
   "metadata": {},
   "source": [
    "><**주의**\\>\n",
    "- 윈도우의 메모장에서 한글을 입력하고 저장하면 'ms949' 인코딩으로 저장된다.<br>이를 'utf-8' 로 저장하려면 '파일 > 다른이름으로저장' 으로 들어가서 하단의 인코딩을 'utf-8' 로 바꾸어 저장한다.\n",
    "- loadtxt() 함수는 기본적으로 실수형으로 데이터를 변환한다.<br>그리고 만일 비어 있는 데이터가 있다면 에러가 발생한다. 이런 경우 converters 옵션으로 해결해 주어야 한다. (converters = {3: lambda s: float(s.strip() or 0)})"
   ]
  },
  {
   "cell_type": "code",
   "execution_count": 8,
   "metadata": {
    "collapsed": false
   },
   "outputs": [
    {
     "data": {
      "text/plain": [
       "array([[ 0,  1,  0,  1,  2,  3],\n",
       "       [ 2,  3,  4,  5,  6,  7],\n",
       "       [ 4,  5,  8,  9, 10, 11]])"
      ]
     },
     "execution_count": 8,
     "metadata": {},
     "output_type": "execute_result"
    }
   ],
   "source": [
    "a = np.arange(6).reshape(3,2)\n",
    "b = np.arange(12).reshape(3,4)\n",
    "\n",
    "np.concatenate([a,b],axis=1)\n",
    "np.hstack([a,b])\n",
    "np.c_[a,b]"
   ]
  },
  {
   "cell_type": "code",
   "execution_count": 9,
   "metadata": {
    "collapsed": false
   },
   "outputs": [
    {
     "data": {
      "text/plain": [
       "array([[ 0,  1,  2],\n",
       "       [ 3,  4,  5],\n",
       "       [ 0,  1,  2],\n",
       "       [ 3,  4,  5],\n",
       "       [ 6,  7,  8],\n",
       "       [ 9, 10, 11]])"
      ]
     },
     "execution_count": 9,
     "metadata": {},
     "output_type": "execute_result"
    }
   ],
   "source": [
    "a = np.arange(6).reshape(2,3)\n",
    "b = np.arange(12).reshape(4,3)\n",
    "\n",
    "np.concatenate([a,b],axis=0)\n",
    "np.vstack([a,b])\n",
    "np.r_[a,b]"
   ]
  },
  {
   "cell_type": "code",
   "execution_count": 10,
   "metadata": {
    "collapsed": false
   },
   "outputs": [
    {
     "data": {
      "text/plain": [
       "array([[ 0,  1,  2,  3],\n",
       "       [ 5,  6,  7,  8],\n",
       "       [10, 11, 12, 13]])"
      ]
     },
     "metadata": {},
     "output_type": "display_data"
    },
    {
     "data": {
      "text/plain": [
       "array([[-1],\n",
       "       [ 9],\n",
       "       [14]])"
      ]
     },
     "metadata": {},
     "output_type": "display_data"
    },
    {
     "data": {
      "text/plain": [
       "array([[ 0,  1,  2,  3, -1],\n",
       "       [ 5,  6,  7,  8,  9],\n",
       "       [10, 11, 12, 13, 14]])"
      ]
     },
     "metadata": {},
     "output_type": "display_data"
    }
   ],
   "source": [
    "a = np.arange(15).reshape(3,5)\n",
    "first,second = np.split(a,[4],axis=1) # reference\n",
    "\n",
    "second[0,0]=-1\n",
    "display(first,second,a)"
   ]
  },
  {
   "cell_type": "code",
   "execution_count": 11,
   "metadata": {
    "collapsed": false
   },
   "outputs": [
    {
     "data": {
      "text/plain": [
       "array([[0, 0, 1],\n",
       "       [1, 2, 3],\n",
       "       [2, 4, 5]])"
      ]
     },
     "execution_count": 11,
     "metadata": {},
     "output_type": "execute_result"
    }
   ],
   "source": [
    "a = np.arange(3)\n",
    "b = np.arange(6).reshape(3,2)\n",
    "\n",
    "np.c_[a,a] # (3,) => (3,1) 로 변환\n",
    "np.r_[a,a]\n",
    "np.c_[a,b]"
   ]
  },
  {
   "cell_type": "code",
   "execution_count": 12,
   "metadata": {
    "collapsed": false
   },
   "outputs": [
    {
     "data": {
      "text/plain": [
       "array([[0, 1, 0, 1],\n",
       "       [2, 3, 2, 3],\n",
       "       [4, 5, 4, 5]])"
      ]
     },
     "execution_count": 12,
     "metadata": {},
     "output_type": "execute_result"
    }
   ],
   "source": [
    "a = np.arange(3)\n",
    "b = np.arange(6).reshape(3,2)\n",
    "\n",
    "np.tile(a,[2,3])\n",
    "np.tile(b,[2,3])\n",
    "np.tile(b,2)"
   ]
  },
  {
   "cell_type": "markdown",
   "metadata": {},
   "source": [
    "### 브로드캐스팅 (broadcasting)\n",
    "\n",
    "- 두 어레이의 shape 에서, 각 차원의 값이 같거나 1이어야 한다. ((3,1,2) <=> (3,3,1))\n",
    "- 1차원 벡터와 같이 차원이 적은 경우, 앞부분이 1로 채워진 것으로 생각한다. ((3,1,2) <=> (2,), (3,1,2) <=> (1,2))\n",
    "- [Numpy 메뉴얼](https://docs.scipy.org/doc/numpy-1.13.0/user/basics.broadcasting.html) 참조"
   ]
  },
  {
   "cell_type": "code",
   "execution_count": 13,
   "metadata": {
    "collapsed": false
   },
   "outputs": [
    {
     "data": {
      "text/plain": [
       "array([[ 0,  1,  2],\n",
       "       [ 3,  4,  5],\n",
       "       [ 6,  7,  8],\n",
       "       [ 9, 10, 11]])"
      ]
     },
     "metadata": {},
     "output_type": "display_data"
    },
    {
     "data": {
      "text/plain": [
       "array([[ 1,  3,  5],\n",
       "       [ 4,  6,  8],\n",
       "       [ 7,  9, 11],\n",
       "       [10, 12, 14]])"
      ]
     },
     "metadata": {},
     "output_type": "display_data"
    },
    {
     "data": {
      "text/plain": [
       "array([[ 1,  2,  3],\n",
       "       [ 5,  6,  7],\n",
       "       [ 9, 10, 11],\n",
       "       [13, 14, 15]])"
      ]
     },
     "metadata": {},
     "output_type": "display_data"
    }
   ],
   "source": [
    "a = np.arange(12).reshape(4,3)\n",
    "display(a)\n",
    "\n",
    "display(a + [1,2,3]) # (4,3) <=> (3,)\n",
    "display(a + [[1],[2],[3],[4]]) # (4,3) <=> (3,1)"
   ]
  },
  {
   "cell_type": "code",
   "execution_count": 14,
   "metadata": {
    "collapsed": false
   },
   "outputs": [
    {
     "data": {
      "text/plain": [
       "array([[2, 3, 4],\n",
       "       [3, 4, 5],\n",
       "       [4, 5, 6]])"
      ]
     },
     "execution_count": 14,
     "metadata": {},
     "output_type": "execute_result"
    }
   ],
   "source": [
    "a = np.array([1,2,3])\n",
    "a + a.reshape(-1,1) # (3,) <=> (3,1)"
   ]
  },
  {
   "cell_type": "code",
   "execution_count": 15,
   "metadata": {
    "collapsed": false
   },
   "outputs": [
    {
     "data": {
      "text/plain": [
       "array([[ 0,  1,  2],\n",
       "       [ 3,  4,  5],\n",
       "       [ 6,  7,  8],\n",
       "       [ 9, 10, 11]])"
      ]
     },
     "metadata": {},
     "output_type": "display_data"
    },
    {
     "data": {
      "text/plain": [
       "array([4.5, 5.5, 6.5])"
      ]
     },
     "metadata": {},
     "output_type": "display_data"
    },
    {
     "data": {
      "text/plain": [
       "array([[-4.5, -4.5, -4.5],\n",
       "       [-1.5, -1.5, -1.5],\n",
       "       [ 1.5,  1.5,  1.5],\n",
       "       [ 4.5,  4.5,  4.5]])"
      ]
     },
     "metadata": {},
     "output_type": "display_data"
    },
    {
     "data": {
      "text/plain": [
       "array([ 1.,  4.,  7., 10.])"
      ]
     },
     "metadata": {},
     "output_type": "display_data"
    },
    {
     "data": {
      "text/plain": [
       "array([[-1.,  0.,  1.],\n",
       "       [-1.,  0.,  1.],\n",
       "       [-1.,  0.,  1.],\n",
       "       [-1.,  0.,  1.]])"
      ]
     },
     "metadata": {},
     "output_type": "display_data"
    }
   ],
   "source": [
    "a = np.arange(12).reshape(4,3)\n",
    "display(a)\n",
    "\n",
    "col_mean = a.mean(axis=0)\n",
    "display(col_mean, a - col_mean)\n",
    "\n",
    "row_mean = a.mean(axis=1)\n",
    "display(row_mean, a - row_mean.reshape(-1,1))"
   ]
  },
  {
   "cell_type": "code",
   "execution_count": 16,
   "metadata": {
    "collapsed": false
   },
   "outputs": [
    {
     "data": {
      "text/plain": [
       "array([[ 0,  1,  2],\n",
       "       [ 3,  4,  5],\n",
       "       [ 6,  7,  8],\n",
       "       [ 9, 10, 11]])"
      ]
     },
     "metadata": {},
     "output_type": "display_data"
    },
    {
     "data": {
      "text/plain": [
       "array([[-1.34164079, -1.34164079, -1.34164079],\n",
       "       [-0.4472136 , -0.4472136 , -0.4472136 ],\n",
       "       [ 0.4472136 ,  0.4472136 ,  0.4472136 ],\n",
       "       [ 1.34164079,  1.34164079,  1.34164079]])"
      ]
     },
     "metadata": {},
     "output_type": "display_data"
    },
    {
     "data": {
      "text/plain": [
       "array([[0.        , 0.        , 0.        ],\n",
       "       [0.33333333, 0.33333333, 0.33333333],\n",
       "       [0.66666667, 0.66666667, 0.66666667],\n",
       "       [1.        , 1.        , 1.        ]])"
      ]
     },
     "metadata": {},
     "output_type": "display_data"
    }
   ],
   "source": [
    "display(a)\n",
    "\n",
    "### normalization ###\n",
    "n1 = (a - a.mean(axis=0))/a.std(axis=0)\n",
    "n2 = (a - a.min(axis=0))/(a.max(axis=0)-a.min(axis=0))\n",
    "display(n1,n2)"
   ]
  },
  {
   "cell_type": "markdown",
   "metadata": {},
   "source": [
    "### 사용자 정의 함수 적용"
   ]
  },
  {
   "cell_type": "code",
   "execution_count": 17,
   "metadata": {
    "collapsed": false
   },
   "outputs": [
    {
     "data": {
      "text/plain": [
       "array([[ 0.09120686,  1.67964114,  0.12717386, -1.14309552,  0.65102371],\n",
       "       [ 0.58109859,  1.07983203, -0.03576764, -0.47741818,  0.20987536],\n",
       "       [-1.70903358, -1.66470828,  1.18760066,  0.71259412,  0.67652631],\n",
       "       [ 0.4540236 ,  1.61556084, -0.55401344,  0.29803583,  0.22898387],\n",
       "       [ 1.89529363,  0.4474404 ,  0.5470761 , -1.74073814, -0.10860362]])"
      ]
     },
     "metadata": {},
     "output_type": "display_data"
    },
    {
     "data": {
      "text/plain": [
       "array([[ 0.09120686,  1.        ,  0.12717386, -1.        ,  0.65102371],\n",
       "       [ 0.58109859,  1.        , -0.03576764, -0.47741818,  0.20987536],\n",
       "       [-1.        , -1.        ,  1.        ,  0.71259412,  0.67652631],\n",
       "       [ 0.4540236 ,  1.        , -0.55401344,  0.29803583,  0.22898387],\n",
       "       [ 1.        ,  0.4474404 ,  0.5470761 , -1.        , -0.10860362]])"
      ]
     },
     "execution_count": 17,
     "metadata": {},
     "output_type": "execute_result"
    }
   ],
   "source": [
    "a = np.random.randn(5,5)\n",
    "display(a)\n",
    "\n",
    "# my_func = lambda x: -1 if x<-1 else (1 if x>1 else x)\n",
    "my_func = lambda x: x if -1<x<1 else 1*sign(x)\n",
    "np.vectorize(my_func)(a)"
   ]
  },
  {
   "cell_type": "markdown",
   "metadata": {},
   "source": [
    "### 정렬"
   ]
  },
  {
   "cell_type": "code",
   "execution_count": 18,
   "metadata": {
    "collapsed": false
   },
   "outputs": [
    {
     "data": {
      "text/plain": [
       "array([[3, 2, 3, 1],\n",
       "       [3, 2, 0, 5],\n",
       "       [6, 9, 5, 5],\n",
       "       [1, 1, 3, 7],\n",
       "       [0, 3, 8, 3],\n",
       "       [6, 6, 8, 8],\n",
       "       [0, 5, 7, 2],\n",
       "       [4, 5, 4, 4],\n",
       "       [6, 3, 2, 5],\n",
       "       [2, 7, 0, 1]])"
      ]
     },
     "execution_count": 18,
     "metadata": {},
     "output_type": "execute_result"
    }
   ],
   "source": [
    "a = np.random.randint(10,size=[10,4]); a"
   ]
  },
  {
   "cell_type": "code",
   "execution_count": 19,
   "metadata": {
    "collapsed": false
   },
   "outputs": [
    {
     "data": {
      "text/plain": [
       "array([[0, 1, 0, 1],\n",
       "       [0, 2, 0, 1],\n",
       "       [1, 2, 2, 2],\n",
       "       [2, 3, 3, 3],\n",
       "       [3, 3, 3, 4],\n",
       "       [3, 5, 4, 5],\n",
       "       [4, 5, 5, 5],\n",
       "       [6, 6, 7, 5],\n",
       "       [6, 7, 8, 7],\n",
       "       [6, 9, 8, 8]])"
      ]
     },
     "execution_count": 19,
     "metadata": {},
     "output_type": "execute_result"
    }
   ],
   "source": [
    "np.sort(a) # a.sort()\n",
    "np.sort(a, axis=0) # a.sort(axis=0)"
   ]
  },
  {
   "cell_type": "code",
   "execution_count": 20,
   "metadata": {
    "collapsed": false
   },
   "outputs": [
    {
     "data": {
      "text/plain": [
       "array([4, 6, 3, 9, 0, 1, 7, 2, 5, 8], dtype=int32)"
      ]
     },
     "metadata": {},
     "output_type": "display_data"
    },
    {
     "data": {
      "text/plain": [
       "array([0, 0, 1, 2, 3, 3, 4, 6, 6, 6])"
      ]
     },
     "execution_count": 20,
     "metadata": {},
     "output_type": "execute_result"
    }
   ],
   "source": [
    "marker = a[:,0].argsort()\n",
    "display(marker)\n",
    "\n",
    "a[:,0][marker]"
   ]
  },
  {
   "cell_type": "code",
   "execution_count": 21,
   "metadata": {
    "collapsed": false
   },
   "outputs": [
    {
     "data": {
      "text/plain": [
       "array([[0, 3, 8, 3],\n",
       "       [0, 5, 7, 2],\n",
       "       [1, 1, 3, 7],\n",
       "       [2, 7, 0, 1],\n",
       "       [3, 2, 3, 1],\n",
       "       [3, 2, 0, 5],\n",
       "       [4, 5, 4, 4],\n",
       "       [6, 9, 5, 5],\n",
       "       [6, 6, 8, 8],\n",
       "       [6, 3, 2, 5]])"
      ]
     },
     "execution_count": 21,
     "metadata": {},
     "output_type": "execute_result"
    }
   ],
   "source": [
    "sorted_a = a[marker]\n",
    "sorted_a"
   ]
  },
  {
   "cell_type": "code",
   "execution_count": 22,
   "metadata": {
    "collapsed": false
   },
   "outputs": [
    {
     "data": {
      "text/plain": [
       "array([4, 6, 3, 9, 0, 1, 7, 8, 5, 2], dtype=int32)"
      ]
     },
     "metadata": {},
     "output_type": "display_data"
    },
    {
     "data": {
      "text/plain": [
       "array([[0, 3, 8, 3],\n",
       "       [0, 5, 7, 2],\n",
       "       [1, 1, 3, 7],\n",
       "       [2, 7, 0, 1],\n",
       "       [3, 2, 3, 1],\n",
       "       [3, 2, 0, 5],\n",
       "       [4, 5, 4, 4],\n",
       "       [6, 3, 2, 5],\n",
       "       [6, 6, 8, 8],\n",
       "       [6, 9, 5, 5]])"
      ]
     },
     "execution_count": 22,
     "metadata": {},
     "output_type": "execute_result"
    }
   ],
   "source": [
    "marker2 = np.lexsort([a[:,1],a[:,0]]) # sort by first col_0, then col_1\n",
    "display(marker2)\n",
    "\n",
    "a[marker2]"
   ]
  },
  {
   "cell_type": "code",
   "execution_count": 23,
   "metadata": {
    "collapsed": false
   },
   "outputs": [
    {
     "data": {
      "text/plain": [
       "array([[6, 9, 5, 5],\n",
       "       [6, 6, 8, 8],\n",
       "       [6, 3, 2, 5],\n",
       "       [4, 5, 4, 4],\n",
       "       [3, 2, 0, 5],\n",
       "       [3, 2, 3, 1],\n",
       "       [2, 7, 0, 1],\n",
       "       [1, 1, 3, 7],\n",
       "       [0, 5, 7, 2],\n",
       "       [0, 3, 8, 3]])"
      ]
     },
     "execution_count": 23,
     "metadata": {},
     "output_type": "execute_result"
    }
   ],
   "source": [
    "a[marker2][::-1]"
   ]
  },
  {
   "cell_type": "code",
   "execution_count": 24,
   "metadata": {
    "collapsed": false
   },
   "outputs": [
    {
     "data": {
      "text/plain": [
       "array([99, 94, 37, 21, 79, 80, 27, 81, 60, 93, 43, 69, 47, 87, 60, 27, 10,\n",
       "       62, 15, 59])"
      ]
     },
     "metadata": {},
     "output_type": "display_data"
    },
    {
     "data": {
      "text/plain": [
       "array([5, 5, 1, 1, 3, 4, 1, 4, 2, 5, 1, 2, 1, 4, 2, 1, 1, 2, 1, 1],\n",
       "      dtype=int32)"
      ]
     },
     "metadata": {},
     "output_type": "display_data"
    },
    {
     "data": {
      "text/plain": [
       "array(['수', '수', '가', '가', '미', '우', '가', '우', '양', '수', '가', '양', '가',\n",
       "       '우', '양', '가', '가', '양', '가', '가'], dtype='<U1')"
      ]
     },
     "execution_count": 24,
     "metadata": {},
     "output_type": "execute_result"
    }
   ],
   "source": [
    "a = np.random.randint(101,size=20)\n",
    "display(a)\n",
    "\n",
    "b = np.digitize(a,[0,60,70,80,90,101]) # 구간값(1부터)를 할당한다 => 가/양/미/우/수\n",
    "display(b)\n",
    "\n",
    "names = {1: '가', 2: '양', 3: '미', 4: '우', 5: '수'}\n",
    "np.vectorize(lambda x: names[x])(b)"
   ]
  },
  {
   "cell_type": "markdown",
   "metadata": {},
   "source": [
    "### Iris 데이터 정렬"
   ]
  },
  {
   "cell_type": "code",
   "execution_count": 25,
   "metadata": {
    "collapsed": false
   },
   "outputs": [
    {
     "data": {
      "text/plain": [
       "(150, 5)"
      ]
     },
     "metadata": {},
     "output_type": "display_data"
    },
    {
     "data": {
      "text/plain": [
       "array([[5.1, 3.5, 1.4, 0.2, 0. ],\n",
       "       [4.9, 3. , 1.4, 0.2, 0. ],\n",
       "       [4.7, 3.2, 1.3, 0.2, 0. ],\n",
       "       [4.6, 3.1, 1.5, 0.2, 0. ],\n",
       "       [5. , 3.6, 1.4, 0.2, 0. ]])"
      ]
     },
     "metadata": {},
     "output_type": "display_data"
    }
   ],
   "source": [
    "mapper = {'\"Setosa\"': 0, '\"Versicolor\"': 1, '\"Virginica\"': 2}\n",
    "\n",
    "iris = np.loadtxt('iris.csv', delimiter=',', skiprows=1,\n",
    "                 converters={4: lambda s: mapper[s.decode()]})\n",
    "\n",
    "display(iris.shape, iris[:5])"
   ]
  },
  {
   "cell_type": "code",
   "execution_count": 26,
   "metadata": {
    "collapsed": false
   },
   "outputs": [
    {
     "data": {
      "text/plain": [
       "array([[4.3, 3. , 1.1, 0.1, 0. ],\n",
       "       [4.4, 3.2, 1.3, 0.2, 0. ],\n",
       "       [4.4, 3. , 1.3, 0.2, 0. ],\n",
       "       [4.4, 2.9, 1.4, 0.2, 0. ],\n",
       "       [4.5, 2.3, 1.3, 0.3, 0. ],\n",
       "       [4.6, 3.6, 1. , 0.2, 0. ],\n",
       "       [4.6, 3.1, 1.5, 0.2, 0. ],\n",
       "       [4.6, 3.4, 1.4, 0.3, 0. ],\n",
       "       [4.6, 3.2, 1.4, 0.2, 0. ],\n",
       "       [4.7, 3.2, 1.3, 0.2, 0. ]])"
      ]
     },
     "execution_count": 26,
     "metadata": {},
     "output_type": "execute_result"
    }
   ],
   "source": [
    "iris[iris[:,0].argsort()][:10]"
   ]
  },
  {
   "cell_type": "code",
   "execution_count": 27,
   "metadata": {
    "collapsed": false,
    "scrolled": true
   },
   "outputs": [
    {
     "data": {
      "text/plain": [
       "array([ 13,  38,  42,   8,  41,  22,   6,  47,   3,   2,  29,  12,  45,\n",
       "        11,  30,  24,   1,  37,   9,  34,  57, 106,  35,  40,   4,  49,\n",
       "         7,  25,  26,  43,  93,  60,   0,  17,  19,  21,  39,  46,  23,\n",
       "        44,  98,  28,  27,  32,  59,  48,  16,  10,  31,   5,  20,  84,\n",
       "        36,  33,  81,  80,  53,  89,  90,  64,  69,  88,  94,  66, 121,\n",
       "        15,  18,  79,  99,  95,  96,  55, 113,  14,  82,  92,  67, 101,\n",
       "       114, 142,  61,  70, 149,  62,  78,  85, 138, 119,  83,  71,  91,\n",
       "        63,  73, 127, 134,  97,  68, 126, 148,  87,  56,  72, 123, 146,\n",
       "       133, 103, 136, 100,  74,  51, 111, 115, 137, 128, 132,  54, 110,\n",
       "       147, 116, 104,  75,  58,  65,  86,  77, 145, 140, 124, 144, 108,\n",
       "        76, 112, 143,  52, 141, 139, 120,  50, 102, 129, 125, 109, 107,\n",
       "       130, 105, 135, 117, 122, 118, 131], dtype=int32)"
      ]
     },
     "metadata": {},
     "output_type": "display_data"
    }
   ],
   "source": [
    "marker = np.lexsort([iris[:,2],iris[:,0]])\n",
    "display(marker)\n",
    "\n",
    "iris2 = iris[marker]"
   ]
  },
  {
   "cell_type": "code",
   "execution_count": 28,
   "metadata": {
    "collapsed": false,
    "scrolled": true
   },
   "outputs": [
    {
     "data": {
      "text/plain": [
       "(4.0, 8.0, 0.0, 2.0)"
      ]
     },
     "execution_count": 28,
     "metadata": {},
     "output_type": "execute_result"
    },
    {
     "data": {
      "image/png": "[encoded data removed]",
      "text/plain": [
       "<matplotlib.figure.Figure at 0xa15e9b0>"
      ]
     },
     "metadata": {},
     "output_type": "display_data"
    }
   ],
   "source": [
    "plt.plot(iris2[:,0],iris2[:,4],'bo:')\n",
    "plt.yticks([0,1,2],['Setosa','Versicolor','Virginica'])\n",
    "plt.xlabel('sepal_length')\n",
    "plt.title('Iris - sepal length distribution')\n",
    "plt.legend(['samples'],loc='lower right',shadow=True)\n",
    "plt.axis('equal')"
   ]
  },
  {
   "cell_type": "code",
   "execution_count": 3,
   "metadata": {
    "collapsed": false
   },
   "outputs": [
    {
     "data": {
      "text/plain": [
       "array([[-1.18506936,  0.18764858, -1.45255522,  0.26352696,  0.51427116],\n",
       "       [ 0.69392088, -0.45458511,  0.39986535,  1.79145352,  0.71422576],\n",
       "       [-0.23419188,  0.6220057 , -0.68827699,  1.27383735,  0.12031232]])"
      ]
     },
     "execution_count": 3,
     "metadata": {},
     "output_type": "execute_result"
    }
   ],
   "source": [
    "import numpy as np\n",
    "\n",
    "a = np.random.randn(3,5)\n",
    "a"
   ]
  },
  {
   "cell_type": "code",
   "execution_count": 5,
   "metadata": {
    "collapsed": false
   },
   "outputs": [
    {
     "data": {
      "text/plain": [
       "array([[-0.23419188,  0.6220057 , -0.68827699,  1.27383735,  0.12031232],\n",
       "       [ 0.69392088, -0.45458511,  0.39986535,  1.79145352,  0.71422576],\n",
       "       [-1.18506936,  0.18764858, -1.45255522,  0.26352696,  0.51427116]])"
      ]
     },
     "execution_count": 5,
     "metadata": {},
     "output_type": "execute_result"
    }
   ],
   "source": [
    "np.random.shuffle(a); a"
   ]
  }
 ],
 "metadata": {
  "kernelspec": {
   "display_name": "Python 3",
   "language": "python",
   "name": "python3"
  },
  "language_info": {
   "codemirror_mode": {
    "name": "ipython",
    "version": 3
   },
   "file_extension": ".py",
   "mimetype": "text/x-python",
   "name": "python",
   "nbconvert_exporter": "python",
   "pygments_lexer": "ipython3",
   "version": "3.5.2"
  }
 },
 "nbformat": 4,
 "nbformat_minor": 0
}
